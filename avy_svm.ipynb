{
 "cells": [
  {
   "cell_type": "markdown",
   "metadata": {},
   "source": [
    "# Avalanche Prediction via Machine Learning (so I begin...)\n",
    "\n",
    "## Introduction\n",
    "This is the first step of what I hope will be many in utilizing machine learning techniques to predict avalanche phenomena. In this notebook, I'm aim to present a little example of this by using a support vector machine (SVM) and three freely available datasets to predict avalanche detection (you'll see here soon why I wrote avalanche *detection* and not avalanche *occurrence*). Let's begin with the most important part, the data:.\n",
    "\n",
    "## A. The datasets\n",
    "For simplicities sake, I only looked at data from the current winter, Oct 1, 2019 to April 4, 2020."
   ]
  },
  {
   "cell_type": "code",
   "execution_count": 7,
   "metadata": {},
   "outputs": [],
   "source": [
    "import pandas as pd\n",
    "import numpy as np\n",
    "from sklearn import svm\n",
    "from sklearn.model_selection import train_test_split\n",
    "from sklearn.metrics import classification_report, ConfusionMatrixDisplay\n",
    "import matplotlib.pyplot as plt\n",
    "\n",
    "start_time = pd.Timestamp(\"2019-10-01 00:00:00\")\n",
    "end_time = pd.Timestamp(\"2020-04-04 00:00:00\")"
   ]
  },
  {
   "cell_type": "markdown",
   "metadata": {},
   "source": [
    "### 1. Avalanches: \n",
    "The first dataset I got my hands on was from the Utah Avalanche Center. They have a [database of avalanches](https://utahavalanchecenter.org/avalanches) that goes all the way back to 1914. My mom's dad was 3 at the time. It's awesome. There's lots of great info in there. But alas, right off the bat we have a huge caveat to add to any conclusion that can be drawn with this data: this isn't a table of avalanches; it's a table of __*avalanche reportings*__. Thus, basically any model that uses this data is only going to be able to predict if somebody will __*see and report*__ an avalanche not that an avalanche occurs.\n",
    "\n",
    "One idea for the future would be to use satellite imagery to detect avalanches. If the imagery is high res enough, a machine could be trained to detect them and provide coordinates. This would also provide the benefit of allowing both the slope angle and elevation to be calculated. Unfortunately, some days it's cloudy (NO WAY!), so this wouldn't provide comprehensive avalanche detection. Just spitballing.\n",
    "\n",
    "For simplicity, I subsetted the data to only include avalanche reports from the \"Salt Lake\" region."
   ]
  },
  {
   "cell_type": "code",
   "execution_count": 8,
   "metadata": {},
   "outputs": [],
   "source": [
    "avy_data = pd.read_csv(\"avalanches.csv\", parse_dates=['Date'])\n",
    "avy_data = avy_data.rename(columns={'Date': 'date'})\n",
    "\n",
    "# only Salt Lake\n",
    "avy_data = avy_data.loc[avy_data.Region == 'Salt Lake']\n",
    "\n",
    "# subset select time period\n",
    "avy_data = avy_data[((avy_data.date >= start_time + pd.Timedelta(days=1)) &\n",
    "                     (avy_data.date <= end_time))]\n",
    "\n",
    "# count avalanches reported per day\n",
    "avy_count = avy_data.date.value_counts()\n",
    "\n",
    "# fill in missing datetimes\n",
    "idx = pd.date_range(start_time + pd.Timedelta(days=1), end_time)\n",
    "avy_count = avy_count.reindex(idx)\n",
    "avy_count = avy_count.fillna(0)\n",
    "\n",
    "# convert to any avalanche seen vs no avalanches seen\n",
    "avy = avy_count.astype(bool).astype(int)\n",
    "avy = avy.to_numpy()"
   ]
  },
  {
   "cell_type": "markdown",
   "metadata": {},
   "source": [
    "### 2. Snow data:\n",
    "SNOTEL has a pretty easy-to-use [web interface](http://wcc.sc.egov.usda.gov/reportGenerator/) to get information from their SNOTEL sites. For the current exploratory mission, I just used data from SITE 628 - \"MILL-D NORTH\". At this site, there are four measurements recorded: snow-water equivalent, snow depth, precipitation accumulation, and temperature. I didn't use precipitation accumulation because I don't really know what that means in this context (I haven't had time to figure out yet (April 17, 2020)). These measurements are taken hourly. There are a few lapses (I wanna say 300 bad recordings out of 13,000). I just interpolated to fill them in."
   ]
  },
  {
   "cell_type": "code",
   "execution_count": 3,
   "metadata": {},
   "outputs": [],
   "source": [
    "snotel = pd.read_csv(\"snotel.csv\", parse_dates=['Date'])\n",
    "\n",
    "\n",
    "# subset for select time period\n",
    "snotel = snotel[(snotel.Date > start_time + pd.Timedelta(hours=9)) &\n",
    "                (snotel.Date <= end_time + pd.Timedelta(hours=9))]\n",
    "\n",
    "# fill in missing dates\n",
    "snotel = snotel.set_index(['Date'])\n",
    "idx = pd.date_range(snotel.index.min(), snotel.index.max(), freq='H')\n",
    "snotel = snotel.reindex(idx)\n",
    "\n",
    "# find nulls and interpolate\n",
    "snotel = snotel.interpolate(axis=0)"
   ]
  },
  {
   "cell_type": "markdown",
   "metadata": {},
   "source": [
    "### 3. Wind and Sky Cover data:\n",
    "This data was surprisingly hard to find. I would think that there would be publicly available, hourly recordings of wind speed and direction recorded at elevations above 10,000 ft in the Wasatch but I couldn't find any (like at a resort's weather station?). I figured finding sky cover data would be more difficult. \n",
    "\n",
    "I found hourly recordings of both variables at a [NOAA website](https://www.ncdc.noaa.gov/cdo-web/). They were recorded at the Salt Lake Airport. The wind speed is just plain ole wind speed but the sky cover measurement is more abstruse. I'm gonna pull a tenured professor move and encourage the interested reader to read the [documentation](https://www1.ncdc.noaa.gov/pub/data/cdo/documentation/NORMAL_HLY_documentation.pdf). I dropped all other remaining variables.\n",
    "\n",
    "I'm not going to bore you by describing how I cleaned the data/dealt with it's eccentricities."
   ]
  },
  {
   "cell_type": "code",
   "execution_count": 4,
   "metadata": {},
   "outputs": [],
   "source": [
    "# convert feet or inches to inches\n",
    "def conv_to_in(x):\n",
    "    if x.endswith(\"'\"):\n",
    "        return float(x[:-1]) * 12\n",
    "    if x.endswith('\"'):\n",
    "        return float(x[:-1])\n",
    "\n",
    "\n",
    "# convert feet or inches to feet\n",
    "def conv_to_ft(x):\n",
    "    x = x.replace(',', '')\n",
    "    if x.endswith(\"'\"):\n",
    "        return float(x[:-1])\n",
    "    if x.endswith('\"'):\n",
    "        return float(x[:-1]) / 12\n",
    "\n",
    "\n",
    "# parse sky_unparsed column\n",
    "def parse_sky(x):\n",
    "    if pd.isna(x):\n",
    "        return x\n",
    "    else:\n",
    "        pieces = x.split()\n",
    "\n",
    "        if len(pieces) == 1:\n",
    "            return 0\n",
    "        else:\n",
    "            highest = pieces[-2]\n",
    "            return int(highest[4:6])\n",
    "\n",
    "# noaa = pd.read_csv(\"noaa.csv\", \n",
    "#                    usecols= ['DATE', 'HourlySkyConditions', 'HourlyWindSpeed'],\n",
    "#                    parse_dates=['DATE'])\n",
    "# type(noaa.loc[0,'HourlyWindSpeed'])\n",
    "\n",
    "noaa = pd.read_csv(\"noaa.csv\", \n",
    "                   usecols= ['DATE', 'HourlySkyConditions', 'HourlyWindSpeed'],\n",
    "                   dtype={'HourlySkyConditions': str, 'HourlyWindSpeed': str},\n",
    "                   parse_dates=['DATE'])\n",
    "\n",
    "noaa = noaa.rename(columns={'DATE': 'date',\n",
    "                            'HourlySkyConditions': 'sky_unparsed',\n",
    "                            'HourlyWindSpeed': 'windspeed'})\n",
    "\n",
    "# subset for select time period\n",
    "noaa = noaa[(noaa.date > start_time + pd.Timedelta(hours=9)) &\n",
    "            (noaa.date <= end_time + pd.Timedelta(hours=9))]\n",
    "\n",
    "# get rid of rows that don't make sense (are just a number)\n",
    "noaa = noaa.loc[~(noaa['sky_unparsed'].apply(lambda x: str(x).isdigit()))]\n",
    "\n",
    "# parse sky_unparsed column\n",
    "noaa['sky'] = noaa['sky_unparsed'].apply(lambda x: parse_sky(x))\n",
    "noaa = noaa.drop(['sky_unparsed'], axis=1)\n",
    "\n",
    "# clean windspeed data\n",
    "noaa['windspeed'] = noaa['windspeed'].replace('NaN', pd.NA).astype(float)\n",
    "\n",
    "# interpolate the missing data\n",
    "noaa = noaa.interpolate(axis=0)\n",
    "\n",
    "# round datetimes\n",
    "noaa['date'] = noaa['date'].apply(lambda x: x.round('60min'))\n",
    "\n",
    "# remove rows with duplicate datetimes\n",
    "noaa = noaa.drop_duplicates('date')\n",
    "\n",
    "# fill in missing datetimes\n",
    "noaa = noaa.set_index(['date'])\n",
    "idx = pd.date_range(noaa.index.min(), noaa.index.max(), freq='H')\n",
    "noaa = noaa.reindex(idx)\n",
    "noaa = noaa.interpolate(axis=0)\n",
    "\n",
    "# combine with snotel data\n",
    "exog_og = noaa.join(snotel)\n",
    "exog_og = exog_og.to_numpy()"
   ]
  },
  {
   "cell_type": "markdown",
   "metadata": {},
   "source": [
    "A keen observer will notice that the avalanche detection data is recorded by day but the weather data is by hour. How am I going to put these things together? Well, I associate one day's avalanche happenings with 24 hours of weather data concluding at 9am on that one day.\n",
    "\n",
    "That 24 hours of weather data is a table/matrix of size $24 \\times 5$ (24 hours by 5 variables: snow depth, snow water equivalent, temperature, wind speed, sky cover). For every day, I flattened the $24 \\times 5$-sized table into a row of length 120. Thus, over the 186 days in our study period, all the data becomes a table of size $186 \\times 120$. \n",
    "\n",
    "There's a few things to note:\n",
    "1. Yes, the way the data is structured now there are a ton of variables compared to the amount of days. Well, in the future we'll have at least 10 times as many days using previous winters (probably more like 20 times as many) just in Salt Lake.\n",
    "2. Note that successive measurements of each variable are autocorrelated (measurements taken closer together in time are more likely to be similar). So there aren't really 120 completely different variables. I believe that there is a possibility to use principle component analysis here.\n",
    "3. Variables are still autocorrelated across days. This is good information in the data that I'm not utilizing for the sake of simplicity. I've seen some discussion about using convolutional neural networks for studying time sereis data. This could be a potential avenue for discovery."
   ]
  },
  {
   "cell_type": "code",
   "execution_count": 5,
   "metadata": {},
   "outputs": [],
   "source": [
    "# flatten days\n",
    "study_interval = (end_time - start_time).days\n",
    "exog = [exog_og[i*24:(i+1)*24].flatten() for i in range(0, study_interval)]\n",
    "exog = np.asarray(exog)"
   ]
  },
  {
   "cell_type": "markdown",
   "metadata": {},
   "source": [
    "## B. Training and Testing\n",
    "Finally! Funny how the fun part at the end really doesn't take anytime at all. Now we fit a support vector machine to our data. I did a little bit of tuning and found that a ```gamma``` between ```0.00001``` and ```0.000001``` works best. ```C``` is the amount of regularization that is added (higher ```C``` is less regularization). ```C``` doesn't seem to have much effect between ```1``` and ```1000```. I'm seeing accuracies around 75% to 85%.\n",
    "\n",
    "I'm stoked to see this, to be honest. I imported little of the available data, threw away plenty of information within the data I did import, and used a classifier that isn't known for use in studying time series. For a first shot, I'm happy."
   ]
  },
  {
   "cell_type": "code",
   "execution_count": 10,
   "metadata": {},
   "outputs": [
    {
     "name": "stdout",
     "output_type": "stream",
     "text": [
      "Classification report for classifier SVC(C=100, gamma=1e-06):\n",
      "              precision    recall  f1-score   support\n",
      "\n",
      "           0       0.93      0.60      0.73        45\n",
      "           1       0.72      0.96      0.82        48\n",
      "\n",
      "    accuracy                           0.78        93\n",
      "   macro avg       0.82      0.78      0.78        93\n",
      "weighted avg       0.82      0.78      0.78        93\n",
      "\n",
      "\n"
     ]
    },
    {
     "data": {
      "image/png": "[encoded data removed]",
      "text/plain": [
       "<Figure size 640x480 with 2 Axes>"
      ]
     },
     "metadata": {},
     "output_type": "display_data"
    }
   ],
   "source": [
    "svm_clf = svm.SVC(gamma=0.000001, C=100)\n",
    "X_train, X_test, y_train, y_test = train_test_split(exog,\n",
    "                                                    avy,\n",
    "                                                    test_size=0.5,\n",
    "                                                    shuffle=True)\n",
    "svm_clf.fit(X_train, y_train)\n",
    "predicted = svm_clf.predict(X_test)\n",
    "\n",
    "# Some results for kicks\n",
    "print(\"Classification report for classifier %s:\\n%s\\n\"\n",
    "      % (svm_clf, classification_report(y_test, predicted)))\n",
    "disp = ConfusionMatrixDisplay.from_estimator(svm_clf, X_test, y_test)\n",
    "disp.figure_.suptitle(\"Confusion Matrix\")\n",
    "\n",
    "plt.show()"
   ]
  },
  {
   "cell_type": "markdown",
   "metadata": {},
   "source": [
    "## C. Future plans\n",
    "1. Of course the next step is to us more winters of data. I need to study the Utah Avalanche Center dataset more to see how many years back the data is usable.\n",
    "2. Principle component analysis to investigate possibly simplifying the set of variables\n",
    "3. [Convolutional Neural Networks](https://machinelearningmastery.com/how-to-develop-convolutional-neural-network-models-for-time-series-forecasting/) Just an idea"
   ]
  }
 ],
 "metadata": {
  "kernelspec": {
   "display_name": "Python 3 (ipykernel)",
   "language": "python",
   "name": "python3"
  },
  "language_info": {
   "codemirror_mode": {
    "name": "ipython",
    "version": 3
   },
   "file_extension": ".py",
   "mimetype": "text/x-python",
   "name": "python",
   "nbconvert_exporter": "python",
   "pygments_lexer": "ipython3",
   "version": "3.12.1"
  }
 },
 "nbformat": 4,
 "nbformat_minor": 4
}
