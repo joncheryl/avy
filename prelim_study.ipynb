{
 "cells": [
  {
   "cell_type": "markdown",
   "metadata": {},
   "source": [
    "# Preliminary Investigation of Avalanche Features\n",
    "The Utah Avalanche Center has a [dataset](https://utahavalanchecenter.org/avalanches) containing reports of avalanches dating back to 1914. While it isn't comprehensive, I believe it can be used as part of a collection of datasets to predict avalanches. Just so I can get more intimate with this data set, in this notebook I'll hone in on five attributes that were recorded:\n",
    "\n",
    "1) [Region of avalanche](#region)  \n",
    "2) [Day of week of avalanche](#day)  \n",
    "3) [Elevation of avalanche](#elevation)  \n",
    "4) [Aspect of avalanche](#aspect)  \n",
    "5) [Month of avalanche](#month)  \n",
    "\n",
    "For each of these, I'll look into both the number of deaths, the number of avalanches, and the number of deaths per the number of avalanches to see which levels of these attributes are most dangerous."
   ]
  },
  {
   "cell_type": "code",
   "execution_count": 114,
   "metadata": {},
   "outputs": [
    {
     "name": "stdout",
     "output_type": "stream",
     "text": [
      "The sql extension is already loaded. To reload it, use:\n",
      "  %reload_ext sql\n"
     ]
    },
    {
     "data": {
      "text/plain": [
       "'Connected: @avy'"
      ]
     },
     "execution_count": 114,
     "metadata": {},
     "output_type": "execute_result"
    }
   ],
   "source": [
    "import sqlalchemy\n",
    "sqlalchemy.create_engine('postgresql://john@localhost/avy')\n",
    "%load_ext sql\n",
    "%sql postgresql:///avy"
   ]
  },
  {
   "cell_type": "markdown",
   "metadata": {},
   "source": [
    "<a name=\"region\"></a>\n",
    "## 1) Region of avalanche\n",
    "There are ten regions included in the dataset: Salt Lake, Provo, Skyline, Uintas, Ogden, Logan, Moab, Abajos, SE Idaho, and Southwest. A fatality has never been recorded in the Abajos region and only one in the SE Idaho region but no coordinates were provided. That's why the Abajos and SE Idaho regions aren't in the legend for the map.\n",
    "\n",
    "In the following graphic, we can see that most observed avalanches occur in Salt Lake. However, the Salt Lake region has the second lowest number of deaths per avalanche reports: 2.09 per 100 avalanche reports. \n",
    "\n",
    "At first glance, perhaps the Southwest region looks the most dangerous. But there's only 17 recorded avalanches for the Southwest region, so the sample size is to small to draw firm conclusions in this regard. The Ogden region seems a more likely candidate for the most dangerous region with 5.47 deaths per 100 reported avalanches. That's over twice as many deaths per avalanche reportings as Salt Lake."
   ]
  },
  {
   "cell_type": "code",
   "execution_count": 35,
   "metadata": {
    "hide_input": false,
    "tags": [
     "remove_input"
    ]
   },
   "outputs": [
    {
     "data": {
      "text/html": [
       "<div class='tableauPlaceholder' id='viz1588781913759' style='position: relative'><noscript><a href='#'><img alt=' ' src='https:&#47;&#47;public.tableau.com&#47;static&#47;images&#47;Av&#47;AvalancheDangerbyRegion&#47;deathRatio&#47;1_rss.png' style='border: none' /></a></noscript><object class='tableauViz'  style='display:none;'><param name='host_url' value='https%3A%2F%2Fpublic.tableau.com%2F' /> <param name='embed_code_version' value='3' /> <param name='site_root' value='' /><param name='name' value='AvalancheDangerbyRegion&#47;deathRatio' /><param name='tabs' value='no' /><param name='toolbar' value='yes' /><param name='static_image' value='https:&#47;&#47;public.tableau.com&#47;static&#47;images&#47;Av&#47;AvalancheDangerbyRegion&#47;deathRatio&#47;1.png' /> <param name='animate_transition' value='yes' /><param name='display_static_image' value='yes' /><param name='display_spinner' value='yes' /><param name='display_overlay' value='yes' /><param name='display_count' value='yes' /></object></div>                <script type='text/javascript'>                    var divElement = document.getElementById('viz1588781913759');                    var vizElement = divElement.getElementsByTagName('object')[0];                    if ( divElement.offsetWidth > 800 ) { vizElement.style.minWidth='420px';vizElement.style.maxWidth='850px';vizElement.style.width='100%';vizElement.style.minHeight='587px';vizElement.style.maxHeight='887px';vizElement.style.height=(divElement.offsetWidth*0.75)+'px';} else if ( divElement.offsetWidth > 500 ) { vizElement.style.minWidth='420px';vizElement.style.maxWidth='850px';vizElement.style.width='100%';vizElement.style.minHeight='587px';vizElement.style.maxHeight='887px';vizElement.style.height=(divElement.offsetWidth*0.75)+'px';} else { vizElement.style.width='100%';vizElement.style.height='777px';}                     var scriptElement = document.createElement('script');                    scriptElement.src = 'https://public.tableau.com/javascripts/api/viz_v1.js';                    vizElement.parentNode.insertBefore(scriptElement, vizElement);                </script>\n"
      ],
      "text/plain": [
       "<IPython.core.display.HTML object>"
      ]
     },
     "metadata": {},
     "output_type": "display_data"
    }
   ],
   "source": [
    "%%html\n",
    "<div class='tableauPlaceholder' id='viz1588781913759' style='position: relative'><noscript><a href='#'><img alt=' ' src='https:&#47;&#47;public.tableau.com&#47;static&#47;images&#47;Av&#47;AvalancheDangerbyRegion&#47;deathRatio&#47;1_rss.png' style='border: none' /></a></noscript><object class='tableauViz'  style='display:none;'><param name='host_url' value='https%3A%2F%2Fpublic.tableau.com%2F' /> <param name='embed_code_version' value='3' /> <param name='site_root' value='' /><param name='name' value='AvalancheDangerbyRegion&#47;deathRatio' /><param name='tabs' value='no' /><param name='toolbar' value='yes' /><param name='static_image' value='https:&#47;&#47;public.tableau.com&#47;static&#47;images&#47;Av&#47;AvalancheDangerbyRegion&#47;deathRatio&#47;1.png' /> <param name='animate_transition' value='yes' /><param name='display_static_image' value='yes' /><param name='display_spinner' value='yes' /><param name='display_overlay' value='yes' /><param name='display_count' value='yes' /></object></div>                <script type='text/javascript'>                    var divElement = document.getElementById('viz1588781913759');                    var vizElement = divElement.getElementsByTagName('object')[0];                    if ( divElement.offsetWidth > 800 ) { vizElement.style.minWidth='420px';vizElement.style.maxWidth='850px';vizElement.style.width='100%';vizElement.style.minHeight='587px';vizElement.style.maxHeight='887px';vizElement.style.height=(divElement.offsetWidth*0.75)+'px';} else if ( divElement.offsetWidth > 500 ) { vizElement.style.minWidth='420px';vizElement.style.maxWidth='850px';vizElement.style.width='100%';vizElement.style.minHeight='587px';vizElement.style.maxHeight='887px';vizElement.style.height=(divElement.offsetWidth*0.75)+'px';} else { vizElement.style.width='100%';vizElement.style.height='777px';}                     var scriptElement = document.createElement('script');                    scriptElement.src = 'https://public.tableau.com/javascripts/api/viz_v1.js';                    vizElement.parentNode.insertBefore(scriptElement, vizElement);                </script>"
   ]
  },
  {
   "cell_type": "markdown",
   "metadata": {},
   "source": [
    "<a name=\"day\"></a>\n",
    "## 2) Day of Week of Avalanche\n",
    "Without human activity, avalanches occur at the same rate regardless of the day of the week. But there's increased traffic on the weekends and maybe that causes avalanches to occur more. In the following SQL printouts we can see the breakdown of avalanches by day of the week. Both avalanche observations and fatalities occur more frequently on the weekends. Of note: Tuesday sees the least amount of fatalities by quite a large margin: Only 5.7% of all recorded avalanche fatalities in Utah have happened on Tuesdays.\n",
    "\n",
    "I didn't include the printout for brevity, but of the 26 avalanche fatalities that have occured since the 2009/2010 season, none have occurred on a Monday or Tuesday."
   ]
  },
  {
   "cell_type": "code",
   "execution_count": 126,
   "metadata": {},
   "outputs": [
    {
     "name": "stdout",
     "output_type": "stream",
     "text": [
      " * postgresql:///avy\n",
      "7 rows affected.\n"
     ]
    },
    {
     "data": {
      "text/html": [
       "<table>\n",
       "    <tr>\n",
       "        <th>day_of_week</th>\n",
       "        <th>avy_county</th>\n",
       "        <th>percentage</th>\n",
       "    </tr>\n",
       "    <tr>\n",
       "        <td>Monday   </td>\n",
       "        <td>612</td>\n",
       "        <td>12.4</td>\n",
       "    </tr>\n",
       "    <tr>\n",
       "        <td>Tuesday  </td>\n",
       "        <td>549</td>\n",
       "        <td>11.1</td>\n",
       "    </tr>\n",
       "    <tr>\n",
       "        <td>Wednesday</td>\n",
       "        <td>616</td>\n",
       "        <td>12.5</td>\n",
       "    </tr>\n",
       "    <tr>\n",
       "        <td>Thursday </td>\n",
       "        <td>620</td>\n",
       "        <td>12.6</td>\n",
       "    </tr>\n",
       "    <tr>\n",
       "        <td>Friday   </td>\n",
       "        <td>756</td>\n",
       "        <td>15.3</td>\n",
       "    </tr>\n",
       "    <tr>\n",
       "        <td>Saturday </td>\n",
       "        <td>939</td>\n",
       "        <td>19.0</td>\n",
       "    </tr>\n",
       "    <tr>\n",
       "        <td>Sunday   </td>\n",
       "        <td>844</td>\n",
       "        <td>17.1</td>\n",
       "    </tr>\n",
       "</table>"
      ],
      "text/plain": [
       "[('Monday   ', 612, Decimal('12.4')),\n",
       " ('Tuesday  ', 549, Decimal('11.1')),\n",
       " ('Wednesday', 616, Decimal('12.5')),\n",
       " ('Thursday ', 620, Decimal('12.6')),\n",
       " ('Friday   ', 756, Decimal('15.3')),\n",
       " ('Saturday ', 939, Decimal('19.0')),\n",
       " ('Sunday   ', 844, Decimal('17.1'))]"
      ]
     },
     "execution_count": 126,
     "metadata": {},
     "output_type": "execute_result"
    }
   ],
   "source": [
    "%%sql\n",
    "\n",
    "SELECT x.day_alpha AS day_of_week, x.avy_count AS avy_county, x.per AS percentage FROM (\n",
    "SELECT to_char(date, 'Day') AS day_alpha, date_part('isodow', date) AS day_numeric, \n",
    "    COUNT(*) AS avy_count, ROUND(100 * COUNT(*) / SUM(COUNT(*)) OVER(), 1) AS per\n",
    "FROM avy\n",
    "GROUP BY date_part('isodow', date), to_char(date, 'Day')\n",
    "ORDER BY date_part('isodow', date)) AS x;"
   ]
  },
  {
   "cell_type": "markdown",
   "metadata": {},
   "source": [
    "And also, the breakdown of fatalities over the days of the week:"
   ]
  },
  {
   "cell_type": "code",
   "execution_count": 110,
   "metadata": {
    "scrolled": true
   },
   "outputs": [
    {
     "name": "stdout",
     "output_type": "stream",
     "text": [
      " * postgresql:///avy\n",
      "7 rows affected.\n"
     ]
    },
    {
     "data": {
      "text/html": [
       "<table>\n",
       "    <tr>\n",
       "        <th>day_of_week</th>\n",
       "        <th>fatality_county</th>\n",
       "        <th>percentage</th>\n",
       "    </tr>\n",
       "    <tr>\n",
       "        <td>Monday   </td>\n",
       "        <td>10</td>\n",
       "        <td>9.4</td>\n",
       "    </tr>\n",
       "    <tr>\n",
       "        <td>Tuesday  </td>\n",
       "        <td>6</td>\n",
       "        <td>5.7</td>\n",
       "    </tr>\n",
       "    <tr>\n",
       "        <td>Wednesday</td>\n",
       "        <td>10</td>\n",
       "        <td>9.4</td>\n",
       "    </tr>\n",
       "    <tr>\n",
       "        <td>Thursday </td>\n",
       "        <td>13</td>\n",
       "        <td>12.3</td>\n",
       "    </tr>\n",
       "    <tr>\n",
       "        <td>Friday   </td>\n",
       "        <td>18</td>\n",
       "        <td>17.0</td>\n",
       "    </tr>\n",
       "    <tr>\n",
       "        <td>Saturday </td>\n",
       "        <td>32</td>\n",
       "        <td>30.2</td>\n",
       "    </tr>\n",
       "    <tr>\n",
       "        <td>Sunday   </td>\n",
       "        <td>17</td>\n",
       "        <td>16.0</td>\n",
       "    </tr>\n",
       "</table>"
      ],
      "text/plain": [
       "[('Monday   ', 10, Decimal('9.4')),\n",
       " ('Tuesday  ', 6, Decimal('5.7')),\n",
       " ('Wednesday', 10, Decimal('9.4')),\n",
       " ('Thursday ', 13, Decimal('12.3')),\n",
       " ('Friday   ', 18, Decimal('17.0')),\n",
       " ('Saturday ', 32, Decimal('30.2')),\n",
       " ('Sunday   ', 17, Decimal('16.0'))]"
      ]
     },
     "execution_count": 110,
     "metadata": {},
     "output_type": "execute_result"
    }
   ],
   "source": [
    "%%sql\n",
    "\n",
    "SELECT x.day_alpha AS day_of_week, x.fat_count AS fatality_county, x.per AS percentage FROM (\n",
    "SELECT to_char(date, 'Day') AS day_alpha, date_part('isodow', date) AS day_numeric, \n",
    "    COUNT(*) AS fat_count, ROUND(100 * COUNT(*) / SUM(COUNT(*)) OVER(), 1) AS per\n",
    "FROM avy\n",
    "WHERE death > 0\n",
    "GROUP BY date_part('isodow', date), to_char(date, 'Day')\n",
    "ORDER BY date_part('isodow', date)) AS x;"
   ]
  },
  {
   "cell_type": "markdown",
   "metadata": {},
   "source": [
    "<a name='elevation'></a>\n",
    "## 3) Elevation of avalanche\n",
    "No big surprises here. The first two bar graphs show fatalities across different elevations. I was also curious to see what portion of avalanches at a given elevation occur over the course of the winter. For example, I wondered if avalanches below 7,000 feet only occur in the middle of winter. This seems to be true: if the months April, May, June, October, and November are selected from the legend (`ctrl`-click to multi-select) then we can see that, proportionally, very few avalanches occur in general but hardly any occur below 7,000 feet.\n",
    "\n",
    "Also, it's just kinda interesting to mountain nerds that there've only been 8 avalanche reportings above 12,000 ft in Utah. If we look, we see that they're all in the Moab region which means they were in the La Sal mountain range."
   ]
  },
  {
   "cell_type": "code",
   "execution_count": 46,
   "metadata": {
    "hide_input": false,
    "scrolled": true,
    "tags": [
     "remove_input"
    ]
   },
   "outputs": [
    {
     "data": {
      "text/html": [
       "<div class='tableauPlaceholder' id='viz1588784111079' style='position: relative'><noscript><a href='#'><img alt=' ' src='https:&#47;&#47;public.tableau.com&#47;static&#47;images&#47;Av&#47;AvalancheDangerbyElevation&#47;avy_deathElev&#47;1_rss.png' style='border: none' /></a></noscript><object class='tableauViz'  style='display:none;'><param name='host_url' value='https%3A%2F%2Fpublic.tableau.com%2F' /> <param name='embed_code_version' value='3' /> <param name='site_root' value='' /><param name='name' value='AvalancheDangerbyElevation&#47;avy_deathElev' /><param name='tabs' value='no' /><param name='toolbar' value='yes' /><param name='static_image' value='https:&#47;&#47;public.tableau.com&#47;static&#47;images&#47;Av&#47;AvalancheDangerbyElevation&#47;avy_deathElev&#47;1.png' /> <param name='animate_transition' value='yes' /><param name='display_static_image' value='yes' /><param name='display_spinner' value='yes' /><param name='display_overlay' value='yes' /><param name='display_count' value='yes' /></object></div>                <script type='text/javascript'>                    var divElement = document.getElementById('viz1588784111079');                    var vizElement = divElement.getElementsByTagName('object')[0];                    if ( divElement.offsetWidth > 800 ) { vizElement.style.minWidth='420px';vizElement.style.maxWidth='850px';vizElement.style.width='100%';vizElement.style.minHeight='587px';vizElement.style.maxHeight='887px';vizElement.style.height=(divElement.offsetWidth*0.75)+'px';} else if ( divElement.offsetWidth > 500 ) { vizElement.style.minWidth='420px';vizElement.style.maxWidth='850px';vizElement.style.width='100%';vizElement.style.minHeight='587px';vizElement.style.maxHeight='887px';vizElement.style.height=(divElement.offsetWidth*0.75)+'px';} else { vizElement.style.width='100%';vizElement.style.height='977px';}                     var scriptElement = document.createElement('script');                    scriptElement.src = 'https://public.tableau.com/javascripts/api/viz_v1.js';                    vizElement.parentNode.insertBefore(scriptElement, vizElement);                </script>\n"
      ],
      "text/plain": [
       "<IPython.core.display.HTML object>"
      ]
     },
     "metadata": {},
     "output_type": "display_data"
    }
   ],
   "source": [
    "%%html\n",
    "<div class='tableauPlaceholder' id='viz1588784111079' style='position: relative'><noscript><a href='#'><img alt=' ' src='https:&#47;&#47;public.tableau.com&#47;static&#47;images&#47;Av&#47;AvalancheDangerbyElevation&#47;avy_deathElev&#47;1_rss.png' style='border: none' /></a></noscript><object class='tableauViz'  style='display:none;'><param name='host_url' value='https%3A%2F%2Fpublic.tableau.com%2F' /> <param name='embed_code_version' value='3' /> <param name='site_root' value='' /><param name='name' value='AvalancheDangerbyElevation&#47;avy_deathElev' /><param name='tabs' value='no' /><param name='toolbar' value='yes' /><param name='static_image' value='https:&#47;&#47;public.tableau.com&#47;static&#47;images&#47;Av&#47;AvalancheDangerbyElevation&#47;avy_deathElev&#47;1.png' /> <param name='animate_transition' value='yes' /><param name='display_static_image' value='yes' /><param name='display_spinner' value='yes' /><param name='display_overlay' value='yes' /><param name='display_count' value='yes' /></object></div>                <script type='text/javascript'>                    var divElement = document.getElementById('viz1588784111079');                    var vizElement = divElement.getElementsByTagName('object')[0];                    if ( divElement.offsetWidth > 800 ) { vizElement.style.minWidth='420px';vizElement.style.maxWidth='850px';vizElement.style.width='100%';vizElement.style.minHeight='587px';vizElement.style.maxHeight='887px';vizElement.style.height=(divElement.offsetWidth*0.75)+'px';} else if ( divElement.offsetWidth > 500 ) { vizElement.style.minWidth='420px';vizElement.style.maxWidth='850px';vizElement.style.width='100%';vizElement.style.minHeight='587px';vizElement.style.maxHeight='887px';vizElement.style.height=(divElement.offsetWidth*0.75)+'px';} else { vizElement.style.width='100%';vizElement.style.height='977px';}                     var scriptElement = document.createElement('script');                    scriptElement.src = 'https://public.tableau.com/javascripts/api/viz_v1.js';                    vizElement.parentNode.insertBefore(scriptElement, vizElement);                </script>"
   ]
  },
  {
   "cell_type": "code",
   "execution_count": 112,
   "metadata": {},
   "outputs": [
    {
     "name": "stdout",
     "output_type": "stream",
     "text": [
      " * postgresql:///avy\n",
      "8 rows affected.\n"
     ]
    },
    {
     "data": {
      "text/html": [
       "<table>\n",
       "    <tr>\n",
       "        <th>avy_id</th>\n",
       "        <th>date</th>\n",
       "        <th>region</th>\n",
       "        <th>depth_in</th>\n",
       "        <th>width_ft</th>\n",
       "        <th>vert_ft</th>\n",
       "        <th>aspect</th>\n",
       "        <th>elev_ft</th>\n",
       "        <th>caught</th>\n",
       "        <th>carried</th>\n",
       "        <th>buried_partial</th>\n",
       "        <th>buried_full</th>\n",
       "        <th>injured</th>\n",
       "        <th>death</th>\n",
       "        <th>lat</th>\n",
       "        <th>lon</th>\n",
       "    </tr>\n",
       "    <tr>\n",
       "        <td>840</td>\n",
       "        <td>2019-01-25</td>\n",
       "        <td>Moab</td>\n",
       "        <td>48</td>\n",
       "        <td>900</td>\n",
       "        <td>1500</td>\n",
       "        <td>East</td>\n",
       "        <td>12200</td>\n",
       "        <td>1</td>\n",
       "        <td>1</td>\n",
       "        <td>0</td>\n",
       "        <td>1</td>\n",
       "        <td>0</td>\n",
       "        <td>1</td>\n",
       "        <td>38.456579716615</td>\n",
       "        <td>-109.23708199209</td>\n",
       "    </tr>\n",
       "    <tr>\n",
       "        <td>2412</td>\n",
       "        <td>2015-01-17</td>\n",
       "        <td>Moab</td>\n",
       "        <td>48</td>\n",
       "        <td>70</td>\n",
       "        <td>1750</td>\n",
       "        <td>Northeast</td>\n",
       "        <td>12100</td>\n",
       "        <td>0</td>\n",
       "        <td>0</td>\n",
       "        <td>0</td>\n",
       "        <td>0</td>\n",
       "        <td>0</td>\n",
       "        <td>0</td>\n",
       "        <td>38.447261052346</td>\n",
       "        <td>-109.26396715836</td>\n",
       "    </tr>\n",
       "    <tr>\n",
       "        <td>3008</td>\n",
       "        <td>2013-12-07</td>\n",
       "        <td>Moab</td>\n",
       "        <td>36</td>\n",
       "        <td>350</td>\n",
       "        <td>600</td>\n",
       "        <td>Northeast</td>\n",
       "        <td>12000</td>\n",
       "        <td>0</td>\n",
       "        <td>0</td>\n",
       "        <td>0</td>\n",
       "        <td>0</td>\n",
       "        <td>0</td>\n",
       "        <td>0</td>\n",
       "        <td>38.441432</td>\n",
       "        <td>-109.261385</td>\n",
       "    </tr>\n",
       "    <tr>\n",
       "        <td>4019</td>\n",
       "        <td>2011-02-08</td>\n",
       "        <td>Moab</td>\n",
       "        <td>None</td>\n",
       "        <td>None</td>\n",
       "        <td>None</td>\n",
       "        <td>North</td>\n",
       "        <td>12200</td>\n",
       "        <td>0</td>\n",
       "        <td>0</td>\n",
       "        <td>0</td>\n",
       "        <td>0</td>\n",
       "        <td>0</td>\n",
       "        <td>0</td>\n",
       "        <td>None</td>\n",
       "        <td>None</td>\n",
       "    </tr>\n",
       "    <tr>\n",
       "        <td>4098</td>\n",
       "        <td>2011-01-11</td>\n",
       "        <td>Moab</td>\n",
       "        <td>24</td>\n",
       "        <td>50</td>\n",
       "        <td>100</td>\n",
       "        <td>North</td>\n",
       "        <td>12200</td>\n",
       "        <td>0</td>\n",
       "        <td>0</td>\n",
       "        <td>0</td>\n",
       "        <td>0</td>\n",
       "        <td>0</td>\n",
       "        <td>0</td>\n",
       "        <td>38.464813</td>\n",
       "        <td>-109.234486</td>\n",
       "    </tr>\n",
       "    <tr>\n",
       "        <td>4163</td>\n",
       "        <td>2010-12-23</td>\n",
       "        <td>Moab</td>\n",
       "        <td>48</td>\n",
       "        <td>5000</td>\n",
       "        <td>None</td>\n",
       "        <td>North</td>\n",
       "        <td>12400</td>\n",
       "        <td>0</td>\n",
       "        <td>0</td>\n",
       "        <td>0</td>\n",
       "        <td>0</td>\n",
       "        <td>0</td>\n",
       "        <td>0</td>\n",
       "        <td>38.44001</td>\n",
       "        <td>-109.229422</td>\n",
       "    </tr>\n",
       "    <tr>\n",
       "        <td>4322</td>\n",
       "        <td>2010-03-14</td>\n",
       "        <td>Moab</td>\n",
       "        <td>24</td>\n",
       "        <td>None</td>\n",
       "        <td>1000</td>\n",
       "        <td>North</td>\n",
       "        <td>12200</td>\n",
       "        <td>0</td>\n",
       "        <td>0</td>\n",
       "        <td>0</td>\n",
       "        <td>0</td>\n",
       "        <td>0</td>\n",
       "        <td>0</td>\n",
       "        <td>38.440951</td>\n",
       "        <td>-109.259248</td>\n",
       "    </tr>\n",
       "    <tr>\n",
       "        <td>4485</td>\n",
       "        <td>2010-02-20</td>\n",
       "        <td>Moab</td>\n",
       "        <td>54</td>\n",
       "        <td>3500</td>\n",
       "        <td>None</td>\n",
       "        <td>Northeast</td>\n",
       "        <td>12000</td>\n",
       "        <td>0</td>\n",
       "        <td>0</td>\n",
       "        <td>0</td>\n",
       "        <td>0</td>\n",
       "        <td>0</td>\n",
       "        <td>0</td>\n",
       "        <td>38.455807</td>\n",
       "        <td>-109.239292</td>\n",
       "    </tr>\n",
       "</table>"
      ],
      "text/plain": [
       "[(840, datetime.date(2019, 1, 25), 'Moab', 48, 900, 1500, 'East', 12200, 1, 1, 0, 1, 0, 1, 38.456579716615, -109.23708199209),\n",
       " (2412, datetime.date(2015, 1, 17), 'Moab', 48, 70, 1750, 'Northeast', 12100, 0, 0, 0, 0, 0, 0, 38.447261052346, -109.26396715836),\n",
       " (3008, datetime.date(2013, 12, 7), 'Moab', 36, 350, 600, 'Northeast', 12000, 0, 0, 0, 0, 0, 0, 38.441432, -109.261385),\n",
       " (4019, datetime.date(2011, 2, 8), 'Moab', None, None, None, 'North', 12200, 0, 0, 0, 0, 0, 0, None, None),\n",
       " (4098, datetime.date(2011, 1, 11), 'Moab', 24, 50, 100, 'North', 12200, 0, 0, 0, 0, 0, 0, 38.464813, -109.234486),\n",
       " (4163, datetime.date(2010, 12, 23), 'Moab', 48, 5000, None, 'North', 12400, 0, 0, 0, 0, 0, 0, 38.44001, -109.229422),\n",
       " (4322, datetime.date(2010, 3, 14), 'Moab', 24, None, 1000, 'North', 12200, 0, 0, 0, 0, 0, 0, 38.440951, -109.259248),\n",
       " (4485, datetime.date(2010, 2, 20), 'Moab', 54, 3500, None, 'Northeast', 12000, 0, 0, 0, 0, 0, 0, 38.455807, -109.239292)]"
      ]
     },
     "execution_count": 112,
     "metadata": {},
     "output_type": "execute_result"
    }
   ],
   "source": [
    "%%sql\n",
    "\n",
    "SELECT *\n",
    "FROM avy\n",
    "WHERE elev_ft >= 12000;"
   ]
  },
  {
   "cell_type": "markdown",
   "metadata": {},
   "source": [
    "<a name='aspect'></a>\n",
    "## 4) Aspect\n",
    "It's generally know that north and eastern facing slopes see less sun, hold more snow, and are a greater avalanche hazard. This can be seen in the following graphic. I was also curious about the distribution of the depth of avalanches across aspects. It does appear that northwest aspects are more dangerous, per avalanche (look at the bottom bar graph) but I don't have an explanation for this."
   ]
  },
  {
   "cell_type": "code",
   "execution_count": 115,
   "metadata": {
    "hide_input": false,
    "tags": [
     "remove_input"
    ]
   },
   "outputs": [
    {
     "data": {
      "text/html": [
       "<div class='tableauPlaceholder' id='viz1588791849610' style='position: relative'><noscript><a href='#'><img alt=' ' src='https:&#47;&#47;public.tableau.com&#47;static&#47;images&#47;Av&#47;AvalancheDangerbyAspect&#47;byasp&#47;1_rss.png' style='border: none' /></a></noscript><object class='tableauViz'  style='display:none;'><param name='host_url' value='https%3A%2F%2Fpublic.tableau.com%2F' /> <param name='embed_code_version' value='3' /> <param name='site_root' value='' /><param name='name' value='AvalancheDangerbyAspect&#47;byasp' /><param name='tabs' value='no' /><param name='toolbar' value='yes' /><param name='static_image' value='https:&#47;&#47;public.tableau.com&#47;static&#47;images&#47;Av&#47;AvalancheDangerbyAspect&#47;byasp&#47;1.png' /> <param name='animate_transition' value='yes' /><param name='display_static_image' value='yes' /><param name='display_spinner' value='yes' /><param name='display_overlay' value='yes' /><param name='display_count' value='yes' /></object></div>                <script type='text/javascript'>                    var divElement = document.getElementById('viz1588791849610');                    var vizElement = divElement.getElementsByTagName('object')[0];                    if ( divElement.offsetWidth > 800 ) { vizElement.style.minWidth='420px';vizElement.style.maxWidth='850px';vizElement.style.width='100%';vizElement.style.minHeight='587px';vizElement.style.maxHeight='887px';vizElement.style.height=(divElement.offsetWidth*0.75)+'px';} else if ( divElement.offsetWidth > 500 ) { vizElement.style.minWidth='420px';vizElement.style.maxWidth='850px';vizElement.style.width='100%';vizElement.style.minHeight='587px';vizElement.style.maxHeight='887px';vizElement.style.height=(divElement.offsetWidth*0.75)+'px';} else { vizElement.style.width='100%';vizElement.style.height='977px';}                     var scriptElement = document.createElement('script');                    scriptElement.src = 'https://public.tableau.com/javascripts/api/viz_v1.js';                    vizElement.parentNode.insertBefore(scriptElement, vizElement);                </script>\n"
      ],
      "text/plain": [
       "<IPython.core.display.HTML object>"
      ]
     },
     "metadata": {},
     "output_type": "display_data"
    }
   ],
   "source": [
    "%%html\n",
    "<div class='tableauPlaceholder' id='viz1588791849610' style='position: relative'><noscript><a href='#'><img alt=' ' src='https:&#47;&#47;public.tableau.com&#47;static&#47;images&#47;Av&#47;AvalancheDangerbyAspect&#47;byasp&#47;1_rss.png' style='border: none' /></a></noscript><object class='tableauViz'  style='display:none;'><param name='host_url' value='https%3A%2F%2Fpublic.tableau.com%2F' /> <param name='embed_code_version' value='3' /> <param name='site_root' value='' /><param name='name' value='AvalancheDangerbyAspect&#47;byasp' /><param name='tabs' value='no' /><param name='toolbar' value='yes' /><param name='static_image' value='https:&#47;&#47;public.tableau.com&#47;static&#47;images&#47;Av&#47;AvalancheDangerbyAspect&#47;byasp&#47;1.png' /> <param name='animate_transition' value='yes' /><param name='display_static_image' value='yes' /><param name='display_spinner' value='yes' /><param name='display_overlay' value='yes' /><param name='display_count' value='yes' /></object></div>                <script type='text/javascript'>                    var divElement = document.getElementById('viz1588791849610');                    var vizElement = divElement.getElementsByTagName('object')[0];                    if ( divElement.offsetWidth > 800 ) { vizElement.style.minWidth='420px';vizElement.style.maxWidth='850px';vizElement.style.width='100%';vizElement.style.minHeight='587px';vizElement.style.maxHeight='887px';vizElement.style.height=(divElement.offsetWidth*0.75)+'px';} else if ( divElement.offsetWidth > 500 ) { vizElement.style.minWidth='420px';vizElement.style.maxWidth='850px';vizElement.style.width='100%';vizElement.style.minHeight='587px';vizElement.style.maxHeight='887px';vizElement.style.height=(divElement.offsetWidth*0.75)+'px';} else { vizElement.style.width='100%';vizElement.style.height='977px';}                     var scriptElement = document.createElement('script');                    scriptElement.src = 'https://public.tableau.com/javascripts/api/viz_v1.js';                    vizElement.parentNode.insertBefore(scriptElement, vizElement);                </script>"
   ]
  },
  {
   "cell_type": "markdown",
   "metadata": {},
   "source": [
    "<a name='month'></a>\n",
    "## 5) Month\n",
    "This attribute also holds no surprises. Everyone knows that avalanches happen between the start of the season and begin to chill out in April. That's what we see here. "
   ]
  },
  {
   "cell_type": "code",
   "execution_count": 48,
   "metadata": {
    "hide_input": false,
    "tags": [
     "remove_input"
    ]
   },
   "outputs": [
    {
     "data": {
      "text/html": [
       "<div class='tableauPlaceholder' id='viz1588787269632' style='position: relative'><noscript><a href='#'><img alt=' ' src='https:&#47;&#47;public.tableau.com&#47;static&#47;images&#47;Av&#47;AvalancheDangerbyMonth&#47;avy_dangMonth&#47;1_rss.png' style='border: none' /></a></noscript><object class='tableauViz'  style='display:none;'><param name='host_url' value='https%3A%2F%2Fpublic.tableau.com%2F' /> <param name='embed_code_version' value='3' /> <param name='site_root' value='' /><param name='name' value='AvalancheDangerbyMonth&#47;avy_dangMonth' /><param name='tabs' value='no' /><param name='toolbar' value='yes' /><param name='static_image' value='https:&#47;&#47;public.tableau.com&#47;static&#47;images&#47;Av&#47;AvalancheDangerbyMonth&#47;avy_dangMonth&#47;1.png' /> <param name='animate_transition' value='yes' /><param name='display_static_image' value='yes' /><param name='display_spinner' value='yes' /><param name='display_overlay' value='yes' /><param name='display_count' value='yes' /></object></div>                <script type='text/javascript'>                    var divElement = document.getElementById('viz1588787269632');                    var vizElement = divElement.getElementsByTagName('object')[0];                    if ( divElement.offsetWidth > 800 ) { vizElement.style.minWidth='420px';vizElement.style.maxWidth='850px';vizElement.style.width='100%';vizElement.style.minHeight='587px';vizElement.style.maxHeight='887px';vizElement.style.height=(divElement.offsetWidth*0.75)+'px';} else if ( divElement.offsetWidth > 500 ) { vizElement.style.minWidth='420px';vizElement.style.maxWidth='850px';vizElement.style.width='100%';vizElement.style.minHeight='587px';vizElement.style.maxHeight='887px';vizElement.style.height=(divElement.offsetWidth*0.75)+'px';} else { vizElement.style.width='100%';vizElement.style.height='877px';}                     var scriptElement = document.createElement('script');                    scriptElement.src = 'https://public.tableau.com/javascripts/api/viz_v1.js';                    vizElement.parentNode.insertBefore(scriptElement, vizElement);                </script>\n"
      ],
      "text/plain": [
       "<IPython.core.display.HTML object>"
      ]
     },
     "metadata": {},
     "output_type": "display_data"
    }
   ],
   "source": [
    "%%html\n",
    "<div class='tableauPlaceholder' id='viz1588787269632' style='position: relative'><noscript><a href='#'><img alt=' ' src='https:&#47;&#47;public.tableau.com&#47;static&#47;images&#47;Av&#47;AvalancheDangerbyMonth&#47;avy_dangMonth&#47;1_rss.png' style='border: none' /></a></noscript><object class='tableauViz'  style='display:none;'><param name='host_url' value='https%3A%2F%2Fpublic.tableau.com%2F' /> <param name='embed_code_version' value='3' /> <param name='site_root' value='' /><param name='name' value='AvalancheDangerbyMonth&#47;avy_dangMonth' /><param name='tabs' value='no' /><param name='toolbar' value='yes' /><param name='static_image' value='https:&#47;&#47;public.tableau.com&#47;static&#47;images&#47;Av&#47;AvalancheDangerbyMonth&#47;avy_dangMonth&#47;1.png' /> <param name='animate_transition' value='yes' /><param name='display_static_image' value='yes' /><param name='display_spinner' value='yes' /><param name='display_overlay' value='yes' /><param name='display_count' value='yes' /></object></div>                <script type='text/javascript'>                    var divElement = document.getElementById('viz1588787269632');                    var vizElement = divElement.getElementsByTagName('object')[0];                    if ( divElement.offsetWidth > 800 ) { vizElement.style.minWidth='420px';vizElement.style.maxWidth='850px';vizElement.style.width='100%';vizElement.style.minHeight='587px';vizElement.style.maxHeight='887px';vizElement.style.height=(divElement.offsetWidth*0.75)+'px';} else if ( divElement.offsetWidth > 500 ) { vizElement.style.minWidth='420px';vizElement.style.maxWidth='850px';vizElement.style.width='100%';vizElement.style.minHeight='587px';vizElement.style.maxHeight='887px';vizElement.style.height=(divElement.offsetWidth*0.75)+'px';} else { vizElement.style.width='100%';vizElement.style.height='877px';}                     var scriptElement = document.createElement('script');                    scriptElement.src = 'https://public.tableau.com/javascripts/api/viz_v1.js';                    vizElement.parentNode.insertBefore(scriptElement, vizElement);                </script>"
   ]
  }
 ],
 "metadata": {
  "celltoolbar": "Tags",
  "kernelspec": {
   "display_name": "Python 3",
   "language": "python",
   "name": "python3"
  },
  "language_info": {
   "codemirror_mode": {
    "name": "ipython",
    "version": 3
   },
   "file_extension": ".py",
   "mimetype": "text/x-python",
   "name": "python",
   "nbconvert_exporter": "python",
   "pygments_lexer": "ipython3",
   "version": "3.6.9"
  }
 },
 "nbformat": 4,
 "nbformat_minor": 4
}
